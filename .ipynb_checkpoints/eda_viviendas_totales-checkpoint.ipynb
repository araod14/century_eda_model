{
 "cells": [
  {
   "cell_type": "code",
   "execution_count": 1,
   "id": "ed59edf4-3e31-4a42-9f11-9ef82f1564c7",
   "metadata": {},
   "outputs": [],
   "source": [
    "import pandas as pd"
   ]
  },
  {
   "cell_type": "markdown",
   "id": "44ff39d1-0a0c-4c29-8e32-779f8fe1bd70",
   "metadata": {},
   "source": [
    "### Cargando CSV"
   ]
  },
  {
   "cell_type": "code",
   "execution_count": 3,
   "id": "a386b4e4-aca3-4bce-8dc9-8f6d447769c1",
   "metadata": {},
   "outputs": [
    {
     "data": {
      "text/html": [
       "<div>\n",
       "<style scoped>\n",
       "    .dataframe tbody tr th:only-of-type {\n",
       "        vertical-align: middle;\n",
       "    }\n",
       "\n",
       "    .dataframe tbody tr th {\n",
       "        vertical-align: top;\n",
       "    }\n",
       "\n",
       "    .dataframe thead th {\n",
       "        text-align: right;\n",
       "    }\n",
       "</style>\n",
       "<table border=\"1\" class=\"dataframe\">\n",
       "  <thead>\n",
       "    <tr style=\"text-align: right;\">\n",
       "      <th></th>\n",
       "      <th>viviendas</th>\n",
       "    </tr>\n",
       "  </thead>\n",
       "  <tbody>\n",
       "    <tr>\n",
       "      <th>0</th>\n",
       "      <td>Nueva en el Mercado\\n1/9\\nAnterior\\nSiguiente\\...</td>\n",
       "    </tr>\n",
       "    <tr>\n",
       "      <th>1</th>\n",
       "      <td>Nueva en el Mercado\\n1/6\\nAnterior\\nSiguiente\\...</td>\n",
       "    </tr>\n",
       "    <tr>\n",
       "      <th>2</th>\n",
       "      <td>Nueva en el Mercado\\n1/12\\nAnterior\\nSiguiente...</td>\n",
       "    </tr>\n",
       "    <tr>\n",
       "      <th>3</th>\n",
       "      <td>Nueva en el Mercado\\n1/3\\nAnterior\\nSiguiente\\...</td>\n",
       "    </tr>\n",
       "    <tr>\n",
       "      <th>4</th>\n",
       "      <td>Nueva en el Mercado\\n1/9\\nAnterior\\nSiguiente\\...</td>\n",
       "    </tr>\n",
       "  </tbody>\n",
       "</table>\n",
       "</div>"
      ],
      "text/plain": [
       "                                           viviendas\n",
       "0  Nueva en el Mercado\\n1/9\\nAnterior\\nSiguiente\\...\n",
       "1  Nueva en el Mercado\\n1/6\\nAnterior\\nSiguiente\\...\n",
       "2  Nueva en el Mercado\\n1/12\\nAnterior\\nSiguiente...\n",
       "3  Nueva en el Mercado\\n1/3\\nAnterior\\nSiguiente\\...\n",
       "4  Nueva en el Mercado\\n1/9\\nAnterior\\nSiguiente\\..."
      ]
     },
     "execution_count": 3,
     "metadata": {},
     "output_type": "execute_result"
    }
   ],
   "source": [
    "df = pd.read_csv('viviendas_totales.csv')\n",
    "df.head()"
   ]
  },
  {
   "cell_type": "markdown",
   "id": "4c3b8a3a-8b3b-4071-9be6-11cb453504b1",
   "metadata": {},
   "source": [
    "### Limieza y formateo de datos"
   ]
  },
  {
   "cell_type": "code",
   "execution_count": 4,
   "id": "1f0bbbf7-bd8a-41b7-9490-94193993b186",
   "metadata": {},
   "outputs": [],
   "source": [
    "df = df['viviendas'].str.split('\\n', expand=True)"
   ]
  },
  {
   "cell_type": "code",
   "execution_count": 5,
   "id": "0ca933b3-6958-45ba-bb5f-de5a05b5f2e9",
   "metadata": {},
   "outputs": [],
   "source": [
    "df.columns = ['mapa', 'pagina', 'anterior', 'siguiente', 'tipo', 'titulo', 'direccion', 'metros', 'caracteristicas', 'precio', 'detalle','None']"
   ]
  },
  {
   "cell_type": "code",
   "execution_count": 6,
   "id": "93d91f18-d14f-4ee4-a4ef-4c46420bc0fe",
   "metadata": {},
   "outputs": [
    {
     "data": {
      "text/html": [
       "<div>\n",
       "<style scoped>\n",
       "    .dataframe tbody tr th:only-of-type {\n",
       "        vertical-align: middle;\n",
       "    }\n",
       "\n",
       "    .dataframe tbody tr th {\n",
       "        vertical-align: top;\n",
       "    }\n",
       "\n",
       "    .dataframe thead th {\n",
       "        text-align: right;\n",
       "    }\n",
       "</style>\n",
       "<table border=\"1\" class=\"dataframe\">\n",
       "  <thead>\n",
       "    <tr style=\"text-align: right;\">\n",
       "      <th></th>\n",
       "      <th>mapa</th>\n",
       "      <th>pagina</th>\n",
       "      <th>anterior</th>\n",
       "      <th>siguiente</th>\n",
       "      <th>tipo</th>\n",
       "      <th>titulo</th>\n",
       "      <th>direccion</th>\n",
       "      <th>metros</th>\n",
       "      <th>caracteristicas</th>\n",
       "      <th>precio</th>\n",
       "      <th>detalle</th>\n",
       "      <th>None</th>\n",
       "    </tr>\n",
       "  </thead>\n",
       "  <tbody>\n",
       "    <tr>\n",
       "      <th>0</th>\n",
       "      <td>Nueva en el Mercado</td>\n",
       "      <td>1/9</td>\n",
       "      <td>Anterior</td>\n",
       "      <td>Siguiente</td>\n",
       "      <td>Apartamento En Renta</td>\n",
       "      <td>Apartamento En Alquiler En Lecheria Resd Tepui...</td>\n",
       "      <td>Diego Bautista Urbaneja, Lechería, Anzoategui</td>\n",
       "      <td>42 m² Terreno•42 m² Construcción</td>\n",
       "      <td>1 Hab. 1 Baños 1 Estac. Piscina</td>\n",
       "      <td>$270</td>\n",
       "      <td>Ver Detalle</td>\n",
       "      <td>None</td>\n",
       "    </tr>\n",
       "    <tr>\n",
       "      <th>1</th>\n",
       "      <td>Nueva en el Mercado</td>\n",
       "      <td>1/6</td>\n",
       "      <td>Anterior</td>\n",
       "      <td>Siguiente</td>\n",
       "      <td>Casa En Venta</td>\n",
       "      <td>Casa Bote C</td>\n",
       "      <td>sector aquavilla, Diego Bautista Urbaneja, Lec...</td>\n",
       "      <td>201 m² Terreno•120 m² Construcción</td>\n",
       "      <td>3 Hab. 3 Baños</td>\n",
       "      <td>$2.000</td>\n",
       "      <td>Ver Detalle</td>\n",
       "      <td>None</td>\n",
       "    </tr>\n",
       "    <tr>\n",
       "      <th>2</th>\n",
       "      <td>Nueva en el Mercado</td>\n",
       "      <td>1/12</td>\n",
       "      <td>Anterior</td>\n",
       "      <td>Siguiente</td>\n",
       "      <td>Apartamento En Venta</td>\n",
       "      <td>Lujoso Apartamento Dúplex En Planta Baja Condo...</td>\n",
       "      <td>Avenida La Costa, Diego Bautista Urbaneja, Lec...</td>\n",
       "      <td>194 m² Terreno•164 m² Construcción</td>\n",
       "      <td>3 Hab. 3 Baños 1 Estac.</td>\n",
       "      <td>$245.000</td>\n",
       "      <td>Ver Detalle</td>\n",
       "      <td>None</td>\n",
       "    </tr>\n",
       "    <tr>\n",
       "      <th>3</th>\n",
       "      <td>Nueva en el Mercado</td>\n",
       "      <td>1/3</td>\n",
       "      <td>Anterior</td>\n",
       "      <td>Siguiente</td>\n",
       "      <td>Terreno En Venta</td>\n",
       "      <td>TERRENO EN VENTA</td>\n",
       "      <td>Calle Sur 4, Diego Bautista Urbaneja, Lechería...</td>\n",
       "      <td>1.301 m² Terreno</td>\n",
       "      <td>$330.000</td>\n",
       "      <td>Ver Detalle</td>\n",
       "      <td>None</td>\n",
       "      <td>None</td>\n",
       "    </tr>\n",
       "    <tr>\n",
       "      <th>4</th>\n",
       "      <td>Nueva en el Mercado</td>\n",
       "      <td>1/9</td>\n",
       "      <td>Anterior</td>\n",
       "      <td>Siguiente</td>\n",
       "      <td>Apartamento En Renta</td>\n",
       "      <td>Alquiler Apartamento En El Conjunto Residencia...</td>\n",
       "      <td>Sector la Salina, Diego Bautista Urbaneja, Lec...</td>\n",
       "      <td>120 m² Terreno•120 m² Construcción</td>\n",
       "      <td>3 Hab. 2 Baños 2 Estac. Piscina</td>\n",
       "      <td>$700</td>\n",
       "      <td>Ver Detalle</td>\n",
       "      <td>None</td>\n",
       "    </tr>\n",
       "  </tbody>\n",
       "</table>\n",
       "</div>"
      ],
      "text/plain": [
       "                  mapa pagina  anterior  siguiente                  tipo  \\\n",
       "0  Nueva en el Mercado    1/9  Anterior  Siguiente  Apartamento En Renta   \n",
       "1  Nueva en el Mercado    1/6  Anterior  Siguiente         Casa En Venta   \n",
       "2  Nueva en el Mercado   1/12  Anterior  Siguiente  Apartamento En Venta   \n",
       "3  Nueva en el Mercado    1/3  Anterior  Siguiente      Terreno En Venta   \n",
       "4  Nueva en el Mercado    1/9  Anterior  Siguiente  Apartamento En Renta   \n",
       "\n",
       "                                              titulo  \\\n",
       "0  Apartamento En Alquiler En Lecheria Resd Tepui...   \n",
       "1                                        Casa Bote C   \n",
       "2  Lujoso Apartamento Dúplex En Planta Baja Condo...   \n",
       "3                                   TERRENO EN VENTA   \n",
       "4  Alquiler Apartamento En El Conjunto Residencia...   \n",
       "\n",
       "                                           direccion  \\\n",
       "0      Diego Bautista Urbaneja, Lechería, Anzoategui   \n",
       "1  sector aquavilla, Diego Bautista Urbaneja, Lec...   \n",
       "2  Avenida La Costa, Diego Bautista Urbaneja, Lec...   \n",
       "3  Calle Sur 4, Diego Bautista Urbaneja, Lechería...   \n",
       "4  Sector la Salina, Diego Bautista Urbaneja, Lec...   \n",
       "\n",
       "                               metros                  caracteristicas  \\\n",
       "0    42 m² Terreno•42 m² Construcción  1 Hab. 1 Baños 1 Estac. Piscina   \n",
       "1  201 m² Terreno•120 m² Construcción                   3 Hab. 3 Baños   \n",
       "2  194 m² Terreno•164 m² Construcción          3 Hab. 3 Baños 1 Estac.   \n",
       "3                    1.301 m² Terreno                         $330.000   \n",
       "4  120 m² Terreno•120 m² Construcción  3 Hab. 2 Baños 2 Estac. Piscina   \n",
       "\n",
       "        precio      detalle  None  \n",
       "0         $270  Ver Detalle  None  \n",
       "1       $2.000  Ver Detalle  None  \n",
       "2     $245.000  Ver Detalle  None  \n",
       "3  Ver Detalle         None  None  \n",
       "4         $700  Ver Detalle  None  "
      ]
     },
     "execution_count": 6,
     "metadata": {},
     "output_type": "execute_result"
    }
   ],
   "source": [
    "df.head()"
   ]
  },
  {
   "cell_type": "markdown",
   "id": "a0635ca6-c493-4f81-8045-38df046bc369",
   "metadata": {},
   "source": [
    "Mover los precios que esten en caracteristicas a precio"
   ]
  },
  {
   "cell_type": "code",
   "execution_count": 7,
   "id": "ce01f0bd-f7a5-4aba-b861-2bdac3d4e565",
   "metadata": {},
   "outputs": [],
   "source": [
    "mask = pd.notna(df['caracteristicas']) & df['caracteristicas'].str.startswith('$')\n",
    "df.loc[mask, 'precio'] = df.loc[mask, 'caracteristicas']"
   ]
  },
  {
   "cell_type": "code",
   "execution_count": 8,
   "id": "7198a856-53d1-4ede-9e78-8d4df7a6e80d",
   "metadata": {},
   "outputs": [],
   "source": [
    "df['caracteristicas'] = df['caracteristicas'].apply(lambda x: None if x is None else x if not x.startswith('$') else None)"
   ]
  },
  {
   "cell_type": "markdown",
   "id": "6fc12d36-e7d7-42b8-86fa-354cba10cee5",
   "metadata": {},
   "source": [
    "### Eliminando columnas no deseadas"
   ]
  },
  {
   "cell_type": "code",
   "execution_count": 9,
   "id": "f322d8a5-8485-4a58-9093-040764ffc7ff",
   "metadata": {},
   "outputs": [],
   "source": [
    "df.drop(columns=['mapa','pagina','anterior','siguiente','detalle','None'], inplace=True)"
   ]
  },
  {
   "cell_type": "code",
   "execution_count": 10,
   "id": "705611ac-5b44-4719-83b8-3401f328d70e",
   "metadata": {},
   "outputs": [],
   "source": [
    "df = df.drop(df[df['tipo'] == 'Terreno En Venta'].index)"
   ]
  },
  {
   "cell_type": "code",
   "execution_count": 11,
   "id": "4fae0e6d-bfac-4c8c-96b1-1830b9281e28",
   "metadata": {},
   "outputs": [
    {
     "data": {
      "text/html": [
       "<div>\n",
       "<style scoped>\n",
       "    .dataframe tbody tr th:only-of-type {\n",
       "        vertical-align: middle;\n",
       "    }\n",
       "\n",
       "    .dataframe tbody tr th {\n",
       "        vertical-align: top;\n",
       "    }\n",
       "\n",
       "    .dataframe thead th {\n",
       "        text-align: right;\n",
       "    }\n",
       "</style>\n",
       "<table border=\"1\" class=\"dataframe\">\n",
       "  <thead>\n",
       "    <tr style=\"text-align: right;\">\n",
       "      <th></th>\n",
       "      <th>tipo</th>\n",
       "      <th>titulo</th>\n",
       "      <th>direccion</th>\n",
       "      <th>metros</th>\n",
       "      <th>caracteristicas</th>\n",
       "      <th>precio</th>\n",
       "    </tr>\n",
       "  </thead>\n",
       "  <tbody>\n",
       "    <tr>\n",
       "      <th>0</th>\n",
       "      <td>Apartamento En Renta</td>\n",
       "      <td>Apartamento En Alquiler En Lecheria Resd Tepui...</td>\n",
       "      <td>Diego Bautista Urbaneja, Lechería, Anzoategui</td>\n",
       "      <td>42 m² Terreno•42 m² Construcción</td>\n",
       "      <td>1 Hab. 1 Baños 1 Estac. Piscina</td>\n",
       "      <td>$270</td>\n",
       "    </tr>\n",
       "    <tr>\n",
       "      <th>1</th>\n",
       "      <td>Casa En Venta</td>\n",
       "      <td>Casa Bote C</td>\n",
       "      <td>sector aquavilla, Diego Bautista Urbaneja, Lec...</td>\n",
       "      <td>201 m² Terreno•120 m² Construcción</td>\n",
       "      <td>3 Hab. 3 Baños</td>\n",
       "      <td>$2.000</td>\n",
       "    </tr>\n",
       "    <tr>\n",
       "      <th>2</th>\n",
       "      <td>Apartamento En Venta</td>\n",
       "      <td>Lujoso Apartamento Dúplex En Planta Baja Condo...</td>\n",
       "      <td>Avenida La Costa, Diego Bautista Urbaneja, Lec...</td>\n",
       "      <td>194 m² Terreno•164 m² Construcción</td>\n",
       "      <td>3 Hab. 3 Baños 1 Estac.</td>\n",
       "      <td>$245.000</td>\n",
       "    </tr>\n",
       "    <tr>\n",
       "      <th>4</th>\n",
       "      <td>Apartamento En Renta</td>\n",
       "      <td>Alquiler Apartamento En El Conjunto Residencia...</td>\n",
       "      <td>Sector la Salina, Diego Bautista Urbaneja, Lec...</td>\n",
       "      <td>120 m² Terreno•120 m² Construcción</td>\n",
       "      <td>3 Hab. 2 Baños 2 Estac. Piscina</td>\n",
       "      <td>$700</td>\n",
       "    </tr>\n",
       "    <tr>\n",
       "      <th>5</th>\n",
       "      <td>Apartamento En Renta</td>\n",
       "      <td>Se Alquila Hermoso Apartamento En El Conjunto ...</td>\n",
       "      <td>1, Diego Bautista Urbaneja, Lechería, Anzoategui</td>\n",
       "      <td>46 m² Terreno•46 m² Construcción</td>\n",
       "      <td>1 Hab. 1 Baños 1 Estac. Mascotas</td>\n",
       "      <td>$350</td>\n",
       "    </tr>\n",
       "  </tbody>\n",
       "</table>\n",
       "</div>"
      ],
      "text/plain": [
       "                   tipo                                             titulo  \\\n",
       "0  Apartamento En Renta  Apartamento En Alquiler En Lecheria Resd Tepui...   \n",
       "1         Casa En Venta                                        Casa Bote C   \n",
       "2  Apartamento En Venta  Lujoso Apartamento Dúplex En Planta Baja Condo...   \n",
       "4  Apartamento En Renta  Alquiler Apartamento En El Conjunto Residencia...   \n",
       "5  Apartamento En Renta  Se Alquila Hermoso Apartamento En El Conjunto ...   \n",
       "\n",
       "                                           direccion  \\\n",
       "0      Diego Bautista Urbaneja, Lechería, Anzoategui   \n",
       "1  sector aquavilla, Diego Bautista Urbaneja, Lec...   \n",
       "2  Avenida La Costa, Diego Bautista Urbaneja, Lec...   \n",
       "4  Sector la Salina, Diego Bautista Urbaneja, Lec...   \n",
       "5   1, Diego Bautista Urbaneja, Lechería, Anzoategui   \n",
       "\n",
       "                               metros                   caracteristicas  \\\n",
       "0    42 m² Terreno•42 m² Construcción   1 Hab. 1 Baños 1 Estac. Piscina   \n",
       "1  201 m² Terreno•120 m² Construcción                    3 Hab. 3 Baños   \n",
       "2  194 m² Terreno•164 m² Construcción           3 Hab. 3 Baños 1 Estac.   \n",
       "4  120 m² Terreno•120 m² Construcción   3 Hab. 2 Baños 2 Estac. Piscina   \n",
       "5    46 m² Terreno•46 m² Construcción  1 Hab. 1 Baños 1 Estac. Mascotas   \n",
       "\n",
       "     precio  \n",
       "0      $270  \n",
       "1    $2.000  \n",
       "2  $245.000  \n",
       "4      $700  \n",
       "5      $350  "
      ]
     },
     "execution_count": 11,
     "metadata": {},
     "output_type": "execute_result"
    }
   ],
   "source": [
    "df.head()"
   ]
  },
  {
   "cell_type": "code",
   "execution_count": 12,
   "id": "f4a1d00f-989c-424c-a2e2-9bb6159e2915",
   "metadata": {},
   "outputs": [
    {
     "data": {
      "text/plain": [
       "(388, 6)"
      ]
     },
     "execution_count": 12,
     "metadata": {},
     "output_type": "execute_result"
    }
   ],
   "source": [
    "df.shape"
   ]
  },
  {
   "cell_type": "markdown",
   "id": "b7bc308f-a9ab-41aa-acbf-aabf362d992c",
   "metadata": {},
   "source": [
    "### Separar columnas de terrenos, baños estacionamientos y piscina"
   ]
  },
  {
   "cell_type": "code",
   "execution_count": 13,
   "id": "e1fba34f-a2bf-442a-aca1-c039349c8ec9",
   "metadata": {},
   "outputs": [],
   "source": [
    "df[['terreno', 'construccion']] = df['metros'].str.split('Terreno•', expand=True)"
   ]
  },
  {
   "cell_type": "code",
   "execution_count": 14,
   "id": "caab9ae5-ad3d-4055-8198-5b87131bbe8d",
   "metadata": {},
   "outputs": [],
   "source": [
    "df.drop(columns=['metros'], inplace=True)"
   ]
  },
  {
   "cell_type": "code",
   "execution_count": 15,
   "id": "3f7fc9a3-9bc0-4e5a-9e4a-b9700ef3ae1f",
   "metadata": {},
   "outputs": [],
   "source": [
    "df[['hab', 'baños', 'estac', 'pisc']] = df['caracteristicas'].str.extract(r'(\\d+) Hab\\. (\\d+) Baños (\\d+) Estac\\. (Piscina)?')"
   ]
  },
  {
   "cell_type": "code",
   "execution_count": 16,
   "id": "b1a0ec56-9fba-453d-872e-136cdb351a1e",
   "metadata": {},
   "outputs": [],
   "source": [
    "df.drop(columns=['caracteristicas'], inplace=True)"
   ]
  },
  {
   "cell_type": "code",
   "execution_count": 17,
   "id": "3b9f23c1-f3c2-4b14-9362-fdf45bca86f9",
   "metadata": {},
   "outputs": [
    {
     "data": {
      "text/html": [
       "<div>\n",
       "<style scoped>\n",
       "    .dataframe tbody tr th:only-of-type {\n",
       "        vertical-align: middle;\n",
       "    }\n",
       "\n",
       "    .dataframe tbody tr th {\n",
       "        vertical-align: top;\n",
       "    }\n",
       "\n",
       "    .dataframe thead th {\n",
       "        text-align: right;\n",
       "    }\n",
       "</style>\n",
       "<table border=\"1\" class=\"dataframe\">\n",
       "  <thead>\n",
       "    <tr style=\"text-align: right;\">\n",
       "      <th></th>\n",
       "      <th>tipo</th>\n",
       "      <th>titulo</th>\n",
       "      <th>direccion</th>\n",
       "      <th>precio</th>\n",
       "      <th>terreno</th>\n",
       "      <th>construccion</th>\n",
       "      <th>hab</th>\n",
       "      <th>baños</th>\n",
       "      <th>estac</th>\n",
       "      <th>pisc</th>\n",
       "    </tr>\n",
       "  </thead>\n",
       "  <tbody>\n",
       "    <tr>\n",
       "      <th>0</th>\n",
       "      <td>Apartamento En Renta</td>\n",
       "      <td>Apartamento En Alquiler En Lecheria Resd Tepui...</td>\n",
       "      <td>Diego Bautista Urbaneja, Lechería, Anzoategui</td>\n",
       "      <td>$270</td>\n",
       "      <td>42 m²</td>\n",
       "      <td>42 m² Construcción</td>\n",
       "      <td>1</td>\n",
       "      <td>1</td>\n",
       "      <td>1</td>\n",
       "      <td>Piscina</td>\n",
       "    </tr>\n",
       "    <tr>\n",
       "      <th>1</th>\n",
       "      <td>Casa En Venta</td>\n",
       "      <td>Casa Bote C</td>\n",
       "      <td>sector aquavilla, Diego Bautista Urbaneja, Lec...</td>\n",
       "      <td>$2.000</td>\n",
       "      <td>201 m²</td>\n",
       "      <td>120 m² Construcción</td>\n",
       "      <td>NaN</td>\n",
       "      <td>NaN</td>\n",
       "      <td>NaN</td>\n",
       "      <td>NaN</td>\n",
       "    </tr>\n",
       "    <tr>\n",
       "      <th>2</th>\n",
       "      <td>Apartamento En Venta</td>\n",
       "      <td>Lujoso Apartamento Dúplex En Planta Baja Condo...</td>\n",
       "      <td>Avenida La Costa, Diego Bautista Urbaneja, Lec...</td>\n",
       "      <td>$245.000</td>\n",
       "      <td>194 m²</td>\n",
       "      <td>164 m² Construcción</td>\n",
       "      <td>NaN</td>\n",
       "      <td>NaN</td>\n",
       "      <td>NaN</td>\n",
       "      <td>NaN</td>\n",
       "    </tr>\n",
       "    <tr>\n",
       "      <th>4</th>\n",
       "      <td>Apartamento En Renta</td>\n",
       "      <td>Alquiler Apartamento En El Conjunto Residencia...</td>\n",
       "      <td>Sector la Salina, Diego Bautista Urbaneja, Lec...</td>\n",
       "      <td>$700</td>\n",
       "      <td>120 m²</td>\n",
       "      <td>120 m² Construcción</td>\n",
       "      <td>3</td>\n",
       "      <td>2</td>\n",
       "      <td>2</td>\n",
       "      <td>Piscina</td>\n",
       "    </tr>\n",
       "    <tr>\n",
       "      <th>5</th>\n",
       "      <td>Apartamento En Renta</td>\n",
       "      <td>Se Alquila Hermoso Apartamento En El Conjunto ...</td>\n",
       "      <td>1, Diego Bautista Urbaneja, Lechería, Anzoategui</td>\n",
       "      <td>$350</td>\n",
       "      <td>46 m²</td>\n",
       "      <td>46 m² Construcción</td>\n",
       "      <td>1</td>\n",
       "      <td>1</td>\n",
       "      <td>1</td>\n",
       "      <td>NaN</td>\n",
       "    </tr>\n",
       "  </tbody>\n",
       "</table>\n",
       "</div>"
      ],
      "text/plain": [
       "                   tipo                                             titulo  \\\n",
       "0  Apartamento En Renta  Apartamento En Alquiler En Lecheria Resd Tepui...   \n",
       "1         Casa En Venta                                        Casa Bote C   \n",
       "2  Apartamento En Venta  Lujoso Apartamento Dúplex En Planta Baja Condo...   \n",
       "4  Apartamento En Renta  Alquiler Apartamento En El Conjunto Residencia...   \n",
       "5  Apartamento En Renta  Se Alquila Hermoso Apartamento En El Conjunto ...   \n",
       "\n",
       "                                           direccion    precio  terreno  \\\n",
       "0      Diego Bautista Urbaneja, Lechería, Anzoategui      $270   42 m²    \n",
       "1  sector aquavilla, Diego Bautista Urbaneja, Lec...    $2.000  201 m²    \n",
       "2  Avenida La Costa, Diego Bautista Urbaneja, Lec...  $245.000  194 m²    \n",
       "4  Sector la Salina, Diego Bautista Urbaneja, Lec...      $700  120 m²    \n",
       "5   1, Diego Bautista Urbaneja, Lechería, Anzoategui      $350   46 m²    \n",
       "\n",
       "          construccion  hab baños estac     pisc  \n",
       "0   42 m² Construcción    1     1     1  Piscina  \n",
       "1  120 m² Construcción  NaN   NaN   NaN      NaN  \n",
       "2  164 m² Construcción  NaN   NaN   NaN      NaN  \n",
       "4  120 m² Construcción    3     2     2  Piscina  \n",
       "5   46 m² Construcción    1     1     1      NaN  "
      ]
     },
     "execution_count": 17,
     "metadata": {},
     "output_type": "execute_result"
    }
   ],
   "source": [
    "df.head()"
   ]
  },
  {
   "cell_type": "markdown",
   "id": "3efa8cb2-a172-4b50-a56d-d0e37cdc68ad",
   "metadata": {},
   "source": [
    "### Cambiar los tipos de valores a float"
   ]
  },
  {
   "cell_type": "code",
   "execution_count": 18,
   "id": "94ab4a73-92cd-4019-b8d7-694525748740",
   "metadata": {},
   "outputs": [
    {
     "name": "stderr",
     "output_type": "stream",
     "text": [
      "<ipython-input-18-712d4a512a29>:1: FutureWarning: The default value of regex will change from True to False in a future version. In addition, single character regular expressions will*not* be treated as literal strings when regex=True.\n",
      "  df['precio'] = df['precio'].str.replace('$', '')\n"
     ]
    }
   ],
   "source": [
    "df['precio'] = df['precio'].str.replace('$', '')"
   ]
  },
  {
   "cell_type": "code",
   "execution_count": 19,
   "id": "40a4c099-5068-486d-9493-1ba97c0ec239",
   "metadata": {},
   "outputs": [
    {
     "name": "stderr",
     "output_type": "stream",
     "text": [
      "<ipython-input-19-8b55ea7c383c>:1: FutureWarning: The default value of regex will change from True to False in a future version. In addition, single character regular expressions will*not* be treated as literal strings when regex=True.\n",
      "  df['precio'] = df['precio'].str.replace('.', '')\n"
     ]
    }
   ],
   "source": [
    "df['precio'] = df['precio'].str.replace('.', '')"
   ]
  },
  {
   "cell_type": "code",
   "execution_count": 20,
   "id": "1a05065b-9b6d-4830-929d-1e0231e1a764",
   "metadata": {},
   "outputs": [
    {
     "data": {
      "text/plain": [
       "array(['270', '2000', '245000', '700', '350', '400', '295000', '42000',\n",
       "       '250000', '145000', '55000', '300', '31000', '38000', '25000',\n",
       "       '40000', '550', '1000', '45000', '250', '83000', '450', '800',\n",
       "       '24000', '79000', '170000', '80000', '70000', '43000', '120000',\n",
       "       '350000', '125000', '1300000', '500', '18500', '420000', '110000',\n",
       "       '600', '1500', None, '95000', '650', '210000', '255000', '750',\n",
       "       '85', '26000', '950', '1400', '100000', '19000', '1300', '1200',\n",
       "       '220000', '35000', '3000', '85000', '65000', '150000', '89000',\n",
       "       '60000', '117000', '180', '37000', '130000', '240000', '930000',\n",
       "       '49500', '57500', '1100', '70', '130', '14000', '100', '900',\n",
       "       '99500', '42800', '33800', '480000', '260000', '1580', '28000',\n",
       "       '19800', '190000', '46000', '20000', '1150', '440000', '280000',\n",
       "       '230000', '3500', '300000', '120', '430000', '365000', '340000',\n",
       "       '135000', '450000', '72000', '259000', '28', '77000', '380000',\n",
       "       '32000', '140000', '90000', '63000', '50000', '3000000', '1000000',\n",
       "       '380', '330', '1600000', '49600', '75000', '52500', '280', '60',\n",
       "       '285000', '80', '390000', '432000', '68000', '950000', '5000',\n",
       "       '275000', '160', '128000', '52000', '19500', '49000', '82000',\n",
       "       '160000', '30000', '50', '90', '252000', '630000', '200', '155000',\n",
       "       '990000', '180000', '96000', '410000', '36000', '590000', '2500',\n",
       "       '92000', '248000', '105000', '7000', '1350', '1600', '1690000',\n",
       "       '175000', '16000', '44000', '550000', '290000', '800000', '650000',\n",
       "       '530', '158000', '1450000', '1050000', '320000', '490000',\n",
       "       '1500000', '185000'], dtype=object)"
      ]
     },
     "execution_count": 20,
     "metadata": {},
     "output_type": "execute_result"
    }
   ],
   "source": [
    "df['precio'].unique()"
   ]
  },
  {
   "cell_type": "code",
   "execution_count": 21,
   "id": "8f7a2e95-e781-4e2d-9406-1f22a13d4fc5",
   "metadata": {},
   "outputs": [],
   "source": [
    "df.precio=df['precio'].astype(float)"
   ]
  },
  {
   "cell_type": "markdown",
   "id": "eb81225b-6712-4e7b-b90f-e4a866a66420",
   "metadata": {},
   "source": [
    "### Terreno"
   ]
  },
  {
   "cell_type": "code",
   "execution_count": 22,
   "id": "66a410e8-90da-404e-87a3-ab0a0ead85aa",
   "metadata": {},
   "outputs": [],
   "source": [
    "df['terreno'] = df['terreno'].str.replace(' m²', '')"
   ]
  },
  {
   "cell_type": "code",
   "execution_count": 23,
   "id": "d7ffb5d7-11cb-4902-b22a-e7c3c8e5f889",
   "metadata": {},
   "outputs": [],
   "source": [
    "df['terreno'] = df['terreno'].str.replace(' ', '')"
   ]
  },
  {
   "cell_type": "code",
   "execution_count": 24,
   "id": "57b28966-c915-43f0-abf2-b6f2f1a0578f",
   "metadata": {},
   "outputs": [
    {
     "data": {
      "text/plain": [
       "array(['42', '201', '194', '120', '46', '135', '509', '375', '96', '86',\n",
       "       '30', '26', '29', '83', '72', '1.200', '33', '40', '118', '95',\n",
       "       '94', '109', '206', '55', '66', '145', '165', '150', '800', '81',\n",
       "       '200', '0', '90', '77', '273', '$49.000', '180', '98', '1.964',\n",
       "       '229', '170', '97', '57', '215', '82', '75', '112', '70', '28',\n",
       "       '103', '84', '132', '202', '63', '117', '235', '85', '238', '113',\n",
       "       '18', '173', '50', '27', '190', '125', '106', '56', '100', '10',\n",
       "       '16', '89', '43', '140', '87', '99', '121', '1.059', '45', '52',\n",
       "       '160', '111', '475', '41', '88', '228', '1', '148', '255', '60',\n",
       "       '67', '230', '53', '203', '1.000', '21', '1.084', '186', '212',\n",
       "       '352', '364', '357', '220', '250', '65', '276', '93', '114', '390',\n",
       "       '22', '101', '327', '456', '183', 'VerDetalle', '162', '155', '62',\n",
       "       '420', '975', '108', '130', '102', '4.000', '1.450', '1.445',\n",
       "       '137', '76', '494', '35', '47', '450', '254', '115', '110', '280',\n",
       "       '503', '44', '362', '51', '71', '68', '240', '158', '92', '204',\n",
       "       '14', '164', '1.030', '1.045', '34', '1.400', '171', '225', '386',\n",
       "       '1.164', '1.027', '256', '129', '$150.000', '305', '187', '820',\n",
       "       '300', '142', '1.308', '1.360', '310', '69', '20', '272', '133',\n",
       "       '700', '177', '48', '1.100', '128', '131', '1.928', '1.542',\n",
       "       '3.000', '380', '604', '152', '395', '210'], dtype=object)"
      ]
     },
     "execution_count": 24,
     "metadata": {},
     "output_type": "execute_result"
    }
   ],
   "source": [
    "df['terreno'].unique()"
   ]
  },
  {
   "cell_type": "code",
   "execution_count": 25,
   "id": "6043bd6d-bea7-45d7-b5ae-756c5c6f160d",
   "metadata": {},
   "outputs": [],
   "source": [
    "df = df.drop(df[df['terreno'] == 'VerDetalle'].index)"
   ]
  },
  {
   "cell_type": "code",
   "execution_count": 26,
   "id": "89248de4-b51e-475a-88b2-dd5a1bd36f65",
   "metadata": {},
   "outputs": [],
   "source": [
    "df = df.drop(df[df['terreno'] == '$150.000'].index)"
   ]
  },
  {
   "cell_type": "code",
   "execution_count": 27,
   "id": "814d754a-80a7-4305-a4d2-0e613e4252a0",
   "metadata": {},
   "outputs": [],
   "source": [
    "df = df.drop(df[df['terreno'] == '$49.000'].index)"
   ]
  },
  {
   "cell_type": "code",
   "execution_count": 28,
   "id": "49dd4d4b-782d-4935-9f78-8117090819a2",
   "metadata": {},
   "outputs": [],
   "source": [
    "df.terreno=df['terreno'].astype(float)"
   ]
  },
  {
   "cell_type": "markdown",
   "id": "6349db23-3123-45a6-b7d7-77760726d7b5",
   "metadata": {},
   "source": [
    "### Construccion"
   ]
  },
  {
   "cell_type": "code",
   "execution_count": 29,
   "id": "b374de73-9af1-4be4-b6c8-a9ce7622227c",
   "metadata": {},
   "outputs": [],
   "source": [
    "df['construccion'] = df['construccion'].str.replace(' m²', '')"
   ]
  },
  {
   "cell_type": "code",
   "execution_count": 30,
   "id": "1ba85da7-4c0f-4b77-8505-cd5770e536d5",
   "metadata": {},
   "outputs": [
    {
     "data": {
      "text/plain": [
       "array(['42 Construcción', '120 Construcción', '164 Construcción',\n",
       "       '46 Construcción', '135 Construcción', '400 Construcción',\n",
       "       '375 Construcción', '96 Construcción', '86 Construcción',\n",
       "       '30 Construcción', '26 Construcción', '29 Construcción',\n",
       "       '83 Construcción', '72 Construcción', '700 Construcción',\n",
       "       '33 Construcción', '40 Construcción', '118 Construcción',\n",
       "       '95 Construcción', '94 Construcción', '109 Construcción',\n",
       "       '206 Construcción', '55 Construcción', '66 Construcción',\n",
       "       '145 Construcción', '165 Construcción', '150 Construcción',\n",
       "       '800 Construcción', '81 Construcción', '391 Construcción',\n",
       "       '235 Construcción', '90 Construcción', '77 Construcción',\n",
       "       '273 Construcción', '180 Construcción', '98 Construcción',\n",
       "       '1.964 Construcción', '229 Construcción', '170 Construcción',\n",
       "       '92 Construcción', '97 Construcción', '57 Construcción',\n",
       "       '215 Construcción', '82 Construcción', '75 Construcción',\n",
       "       '112 Construcción', '70 Construcción', '28 Construcción',\n",
       "       '103 Construcción', '84 Construcción', '132 Construcción',\n",
       "       '202 Construcción', '63 Construcción', '117 Construcción',\n",
       "       '85 Construcción', '238 Construcción', '113 Construcción',\n",
       "       '18 Construcción', '173 Construcción', '50 Construcción',\n",
       "       '27 Construcción', '190 Construcción', '125 Construcción',\n",
       "       '168 Construcción', '106 Construcción', '58 Construcción',\n",
       "       '100 Construcción', '10 Construcción', '16 Construcción',\n",
       "       '89 Construcción', '43 Construcción', '140 Construcción',\n",
       "       '87 Construcción', '99 Construcción', '250 Construcción',\n",
       "       '1.059 Construcción', '45 Construcción', '52 Construcción',\n",
       "       '111 Construcción', '134 Construcción', '475 Construcción',\n",
       "       '56 Construcción', '41 Construcción', '88 Construcción',\n",
       "       '228 Construcción', '600 Construcción', '148 Construcción',\n",
       "       '255 Construcción', '60 Construcción', '67 Construcción',\n",
       "       '230 Construcción', '24 Construcción', '53 Construcción',\n",
       "       '196 Construcción', '1.700 Construcción', '21 Construcción',\n",
       "       '450 Construcción', '186 Construcción', '194 Construcción',\n",
       "       '126 Construcción', '280 Construcción', '352 Construcción',\n",
       "       '364 Construcción', '1.037 Construcción', '220 Construcción',\n",
       "       '65 Construcción', '276 Construcción', '93 Construcción',\n",
       "       '114 Construcción', '390 Construcción', '22 Construcción',\n",
       "       '270 Construcción', '101 Construcción', '187 Construcción',\n",
       "       '201 Construcción', '300 Construcción', '162 Construcción',\n",
       "       '155 Construcción', '62 Construcción', '253 Construcción',\n",
       "       '975 Construcción', '108 Construcción', '130 Construcción',\n",
       "       '102 Construcción', '4.000 Construcción', '1.450 Construcción',\n",
       "       '870 Construcción', '137 Construcción', '76 Construcción',\n",
       "       '35 Construcción', '47 Construcción', '115 Construcción',\n",
       "       '160 Construcción', '110 Construcción', '281 Construcción',\n",
       "       '44 Construcción', '362 Construcción', '1.070 Construcción',\n",
       "       '51 Construcción', '71 Construcción', '217 Construcción',\n",
       "       '69 Construcción', '240 Construcción', '158 Construcción',\n",
       "       '212 Construcción', '121 Construcción', '14 Construcción',\n",
       "       '1.030 Construcción', '618 Construcción', '34 Construcción',\n",
       "       '200 Construcción', '171 Construcción', '480 Construcción',\n",
       "       '805 Construcción', '527 Construcción', '256 Construcción',\n",
       "       '420 Construcción', '305 Construcción', '142 Construcción',\n",
       "       '68 Construcción', '663 Construcción', '20 Construcción',\n",
       "       '272 Construcción', '231 Construcción', '133 Construcción',\n",
       "       '177 Construcción', '48 Construcción', '128 Construcción',\n",
       "       '131 Construcción', '950 Construcción', '54 Construcción',\n",
       "       '266 Construcción', '490 Construcción', '604 Construcción',\n",
       "       '136 Construcción', '116 Construcción', '1.000 Construcción'],\n",
       "      dtype=object)"
      ]
     },
     "execution_count": 30,
     "metadata": {},
     "output_type": "execute_result"
    }
   ],
   "source": [
    "df['construccion'].unique()"
   ]
  },
  {
   "cell_type": "code",
   "execution_count": 31,
   "id": "c685bc22-7139-47ef-bc22-fcceb3ed5c82",
   "metadata": {},
   "outputs": [],
   "source": [
    "df['construccion'] = df['construccion'].str.replace(' Construcción', '')"
   ]
  },
  {
   "cell_type": "code",
   "execution_count": 32,
   "id": "8d28b9c9-b015-43e8-b5b0-6b3941e524db",
   "metadata": {},
   "outputs": [],
   "source": [
    "df.construccion = df['construccion'].astype(float)"
   ]
  },
  {
   "cell_type": "markdown",
   "id": "2f67eed0-00e8-4a8c-9337-3d80dd86391c",
   "metadata": {},
   "source": [
    "### Habitaciones"
   ]
  },
  {
   "cell_type": "code",
   "execution_count": 33,
   "id": "46a90cd5-6df3-4953-901a-7bbc6282a9ce",
   "metadata": {},
   "outputs": [
    {
     "data": {
      "text/plain": [
       "array(['1', nan, '3', '6', '4', '2', '21', '5', '0', '7', '8'],\n",
       "      dtype=object)"
      ]
     },
     "execution_count": 33,
     "metadata": {},
     "output_type": "execute_result"
    }
   ],
   "source": [
    "df['hab'].unique()"
   ]
  },
  {
   "cell_type": "code",
   "execution_count": 34,
   "id": "3a5e03ac-ad9d-4a00-adab-f14b6b85b36d",
   "metadata": {},
   "outputs": [],
   "source": [
    "df = df.drop(df[df['hab'] == None].index)"
   ]
  },
  {
   "cell_type": "code",
   "execution_count": 35,
   "id": "99e658da-0a08-40ec-b160-85b8d4cf4de5",
   "metadata": {},
   "outputs": [],
   "source": [
    "df.hab = df['hab'].astype(float)"
   ]
  },
  {
   "cell_type": "markdown",
   "id": "c09bdc3e-ee7a-4547-b4b7-448accc3c6c3",
   "metadata": {},
   "source": [
    "### Baños"
   ]
  },
  {
   "cell_type": "code",
   "execution_count": 36,
   "id": "bfd60371-9a02-495b-ba37-6755b2fc9193",
   "metadata": {},
   "outputs": [],
   "source": [
    "df.baños = df['baños'].astype(float)"
   ]
  },
  {
   "cell_type": "markdown",
   "id": "a68abc70-c67f-4c1a-b391-212ecbdb8b28",
   "metadata": {},
   "source": [
    "### Estacionamiento"
   ]
  },
  {
   "cell_type": "code",
   "execution_count": 37,
   "id": "3f7115e1-3d0c-49fb-a2ef-8c1de1bac8f0",
   "metadata": {},
   "outputs": [],
   "source": [
    "df.estac=df['estac'].astype(float)"
   ]
  },
  {
   "cell_type": "markdown",
   "id": "f5f63ba6-57e9-4cb6-aefe-6dd196a70d71",
   "metadata": {},
   "source": [
    "### Piscina¶"
   ]
  },
  {
   "cell_type": "code",
   "execution_count": 38,
   "id": "7f00b96c-6acf-4d6c-bf53-5e2ca75466ef",
   "metadata": {},
   "outputs": [],
   "source": [
    "df['pisc'] = df['pisc'].fillna(False)"
   ]
  },
  {
   "cell_type": "code",
   "execution_count": 39,
   "id": "0055b60f-4134-4ed9-8d1c-ff4302cbbc4f",
   "metadata": {},
   "outputs": [
    {
     "data": {
      "text/plain": [
       "0      Piscina\n",
       "1        False\n",
       "2        False\n",
       "4      Piscina\n",
       "5        False\n",
       "        ...   \n",
       "395      False\n",
       "396      False\n",
       "397      False\n",
       "398      False\n",
       "399      False\n",
       "Name: pisc, Length: 385, dtype: object"
      ]
     },
     "execution_count": 39,
     "metadata": {},
     "output_type": "execute_result"
    }
   ],
   "source": [
    "df['pisc']"
   ]
  },
  {
   "cell_type": "code",
   "execution_count": 40,
   "id": "2b64cbcc-254c-4c77-85fa-03c65d9d8968",
   "metadata": {},
   "outputs": [],
   "source": [
    "df['pisc'] = df['pisc'] == 'Piscina'"
   ]
  },
  {
   "cell_type": "code",
   "execution_count": 41,
   "id": "1063dbb2-6470-42c4-bd27-1146824f5dcf",
   "metadata": {},
   "outputs": [
    {
     "data": {
      "text/html": [
       "<div>\n",
       "<style scoped>\n",
       "    .dataframe tbody tr th:only-of-type {\n",
       "        vertical-align: middle;\n",
       "    }\n",
       "\n",
       "    .dataframe tbody tr th {\n",
       "        vertical-align: top;\n",
       "    }\n",
       "\n",
       "    .dataframe thead th {\n",
       "        text-align: right;\n",
       "    }\n",
       "</style>\n",
       "<table border=\"1\" class=\"dataframe\">\n",
       "  <thead>\n",
       "    <tr style=\"text-align: right;\">\n",
       "      <th></th>\n",
       "      <th>tipo</th>\n",
       "      <th>titulo</th>\n",
       "      <th>direccion</th>\n",
       "      <th>precio</th>\n",
       "      <th>terreno</th>\n",
       "      <th>construccion</th>\n",
       "      <th>hab</th>\n",
       "      <th>baños</th>\n",
       "      <th>estac</th>\n",
       "      <th>pisc</th>\n",
       "    </tr>\n",
       "  </thead>\n",
       "  <tbody>\n",
       "    <tr>\n",
       "      <th>0</th>\n",
       "      <td>Apartamento En Renta</td>\n",
       "      <td>Apartamento En Alquiler En Lecheria Resd Tepui...</td>\n",
       "      <td>Diego Bautista Urbaneja, Lechería, Anzoategui</td>\n",
       "      <td>270.0</td>\n",
       "      <td>42.0</td>\n",
       "      <td>42.0</td>\n",
       "      <td>1.0</td>\n",
       "      <td>1.0</td>\n",
       "      <td>1.0</td>\n",
       "      <td>True</td>\n",
       "    </tr>\n",
       "    <tr>\n",
       "      <th>1</th>\n",
       "      <td>Casa En Venta</td>\n",
       "      <td>Casa Bote C</td>\n",
       "      <td>sector aquavilla, Diego Bautista Urbaneja, Lec...</td>\n",
       "      <td>2000.0</td>\n",
       "      <td>201.0</td>\n",
       "      <td>120.0</td>\n",
       "      <td>NaN</td>\n",
       "      <td>NaN</td>\n",
       "      <td>NaN</td>\n",
       "      <td>False</td>\n",
       "    </tr>\n",
       "    <tr>\n",
       "      <th>2</th>\n",
       "      <td>Apartamento En Venta</td>\n",
       "      <td>Lujoso Apartamento Dúplex En Planta Baja Condo...</td>\n",
       "      <td>Avenida La Costa, Diego Bautista Urbaneja, Lec...</td>\n",
       "      <td>245000.0</td>\n",
       "      <td>194.0</td>\n",
       "      <td>164.0</td>\n",
       "      <td>NaN</td>\n",
       "      <td>NaN</td>\n",
       "      <td>NaN</td>\n",
       "      <td>False</td>\n",
       "    </tr>\n",
       "    <tr>\n",
       "      <th>4</th>\n",
       "      <td>Apartamento En Renta</td>\n",
       "      <td>Alquiler Apartamento En El Conjunto Residencia...</td>\n",
       "      <td>Sector la Salina, Diego Bautista Urbaneja, Lec...</td>\n",
       "      <td>700.0</td>\n",
       "      <td>120.0</td>\n",
       "      <td>120.0</td>\n",
       "      <td>3.0</td>\n",
       "      <td>2.0</td>\n",
       "      <td>2.0</td>\n",
       "      <td>True</td>\n",
       "    </tr>\n",
       "    <tr>\n",
       "      <th>5</th>\n",
       "      <td>Apartamento En Renta</td>\n",
       "      <td>Se Alquila Hermoso Apartamento En El Conjunto ...</td>\n",
       "      <td>1, Diego Bautista Urbaneja, Lechería, Anzoategui</td>\n",
       "      <td>350.0</td>\n",
       "      <td>46.0</td>\n",
       "      <td>46.0</td>\n",
       "      <td>1.0</td>\n",
       "      <td>1.0</td>\n",
       "      <td>1.0</td>\n",
       "      <td>False</td>\n",
       "    </tr>\n",
       "  </tbody>\n",
       "</table>\n",
       "</div>"
      ],
      "text/plain": [
       "                   tipo                                             titulo  \\\n",
       "0  Apartamento En Renta  Apartamento En Alquiler En Lecheria Resd Tepui...   \n",
       "1         Casa En Venta                                        Casa Bote C   \n",
       "2  Apartamento En Venta  Lujoso Apartamento Dúplex En Planta Baja Condo...   \n",
       "4  Apartamento En Renta  Alquiler Apartamento En El Conjunto Residencia...   \n",
       "5  Apartamento En Renta  Se Alquila Hermoso Apartamento En El Conjunto ...   \n",
       "\n",
       "                                           direccion    precio  terreno  \\\n",
       "0      Diego Bautista Urbaneja, Lechería, Anzoategui     270.0     42.0   \n",
       "1  sector aquavilla, Diego Bautista Urbaneja, Lec...    2000.0    201.0   \n",
       "2  Avenida La Costa, Diego Bautista Urbaneja, Lec...  245000.0    194.0   \n",
       "4  Sector la Salina, Diego Bautista Urbaneja, Lec...     700.0    120.0   \n",
       "5   1, Diego Bautista Urbaneja, Lechería, Anzoategui     350.0     46.0   \n",
       "\n",
       "   construccion  hab  baños  estac   pisc  \n",
       "0          42.0  1.0    1.0    1.0   True  \n",
       "1         120.0  NaN    NaN    NaN  False  \n",
       "2         164.0  NaN    NaN    NaN  False  \n",
       "4         120.0  3.0    2.0    2.0   True  \n",
       "5          46.0  1.0    1.0    1.0  False  "
      ]
     },
     "execution_count": 41,
     "metadata": {},
     "output_type": "execute_result"
    }
   ],
   "source": [
    "df.head()"
   ]
  },
  {
   "cell_type": "code",
   "execution_count": 42,
   "id": "d844fa64-7702-4b09-88e7-0fc9510ab523",
   "metadata": {},
   "outputs": [],
   "source": [
    "df.to_csv('viviendas_totales_limpiados.csv', index=False)"
   ]
  },
  {
   "cell_type": "markdown",
   "id": "aae81da0-b674-411a-b6cf-f2d54371b547",
   "metadata": {},
   "source": [
    "## formato .csv exportado"
   ]
  },
  {
   "cell_type": "code",
   "execution_count": 43,
   "id": "633f2f7a-8f99-4771-94ba-a397790e6bee",
   "metadata": {},
   "outputs": [
    {
     "data": {
      "text/plain": [
       "(385, 10)"
      ]
     },
     "execution_count": 43,
     "metadata": {},
     "output_type": "execute_result"
    }
   ],
   "source": [
    "df.shape"
   ]
  }
 ],
 "metadata": {
  "kernelspec": {
   "display_name": "Python 3",
   "language": "python",
   "name": "python3"
  },
  "language_info": {
   "codemirror_mode": {
    "name": "ipython",
    "version": 3
   },
   "file_extension": ".py",
   "mimetype": "text/x-python",
   "name": "python",
   "nbconvert_exporter": "python",
   "pygments_lexer": "ipython3",
   "version": "3.8.8"
  }
 },
 "nbformat": 4,
 "nbformat_minor": 5
}
