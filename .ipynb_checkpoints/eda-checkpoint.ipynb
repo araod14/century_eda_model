{
 "cells": [
  {
   "cell_type": "code",
   "execution_count": 42,
   "id": "1bdcccd9-59c9-45f9-9c1d-22e98b18ae45",
   "metadata": {},
   "outputs": [],
   "source": [
    "import pandas as pd\n",
    "import matplotlib.pyplot as plt\n",
    "import seaborn as sns\n",
    "import numpy as np"
   ]
  },
  {
   "cell_type": "markdown",
   "id": "8a276fe9-121c-4d0e-8b70-c80878715669",
   "metadata": {},
   "source": [
    "## Cargando CSV"
   ]
  },
  {
   "cell_type": "code",
   "execution_count": 2,
   "id": "9a99f8da-a17b-4abc-bf3f-c66c60351138",
   "metadata": {},
   "outputs": [
    {
     "data": {
      "text/html": [
       "<div>\n",
       "<style scoped>\n",
       "    .dataframe tbody tr th:only-of-type {\n",
       "        vertical-align: middle;\n",
       "    }\n",
       "\n",
       "    .dataframe tbody tr th {\n",
       "        vertical-align: top;\n",
       "    }\n",
       "\n",
       "    .dataframe thead th {\n",
       "        text-align: right;\n",
       "    }\n",
       "</style>\n",
       "<table border=\"1\" class=\"dataframe\">\n",
       "  <thead>\n",
       "    <tr style=\"text-align: right;\">\n",
       "      <th></th>\n",
       "      <th>viviendas</th>\n",
       "    </tr>\n",
       "  </thead>\n",
       "  <tbody>\n",
       "    <tr>\n",
       "      <th>0</th>\n",
       "      <td>Nueva en el Mercado\\n1/3\\nAnterior\\nSiguiente\\...</td>\n",
       "    </tr>\n",
       "    <tr>\n",
       "      <th>1</th>\n",
       "      <td>Nueva en el Mercado\\n1/12\\nAnterior\\nSiguiente...</td>\n",
       "    </tr>\n",
       "    <tr>\n",
       "      <th>2</th>\n",
       "      <td>Nueva en el Mercado\\n1/8\\nAnterior\\nSiguiente\\...</td>\n",
       "    </tr>\n",
       "    <tr>\n",
       "      <th>3</th>\n",
       "      <td>Nueva en el Mercado\\n1/3\\nAnterior\\nSiguiente\\...</td>\n",
       "    </tr>\n",
       "    <tr>\n",
       "      <th>4</th>\n",
       "      <td>Nueva en el Mercado\\n1/9\\nAnterior\\nSiguiente\\...</td>\n",
       "    </tr>\n",
       "  </tbody>\n",
       "</table>\n",
       "</div>"
      ],
      "text/plain": [
       "                                           viviendas\n",
       "0  Nueva en el Mercado\\n1/3\\nAnterior\\nSiguiente\\...\n",
       "1  Nueva en el Mercado\\n1/12\\nAnterior\\nSiguiente...\n",
       "2  Nueva en el Mercado\\n1/8\\nAnterior\\nSiguiente\\...\n",
       "3  Nueva en el Mercado\\n1/3\\nAnterior\\nSiguiente\\...\n",
       "4  Nueva en el Mercado\\n1/9\\nAnterior\\nSiguiente\\..."
      ]
     },
     "execution_count": 2,
     "metadata": {},
     "output_type": "execute_result"
    }
   ],
   "source": [
    "df = pd.read_csv('viviendas_.csv')\n",
    "df.head()"
   ]
  },
  {
   "cell_type": "markdown",
   "id": "1cc35b62-fff6-4fed-8bbc-8af3a7548f4f",
   "metadata": {},
   "source": [
    "# Limpieza y formateo de Datos"
   ]
  },
  {
   "cell_type": "markdown",
   "id": "b8ff5ee9-669e-4047-8855-39d71b00f461",
   "metadata": {},
   "source": [
    "## Separando valores en columnas"
   ]
  },
  {
   "cell_type": "code",
   "execution_count": 3,
   "id": "8ce154c6-73f7-4b49-a72a-14df7e35e7b7",
   "metadata": {},
   "outputs": [],
   "source": [
    "df[['estado', 'num_pisos', 'anterior', 'siguiente', 'tipo','titulo', 'direccion', 'metros', 'estacionamiento', 'precio', 'detalle']] = df['viviendas'].str.split('\\n', expand=True)"
   ]
  },
  {
   "cell_type": "markdown",
   "id": "81353928-afb6-4851-897f-1769f4a2b574",
   "metadata": {},
   "source": [
    "## Eliminando valores no necesitados"
   ]
  },
  {
   "cell_type": "code",
   "execution_count": 4,
   "id": "36287966-adb8-4176-b736-24fc21e8a9ad",
   "metadata": {},
   "outputs": [],
   "source": [
    "df.drop(columns=['viviendas','estado','num_pisos','anterior','siguiente','detalle'], inplace=True)"
   ]
  },
  {
   "cell_type": "code",
   "execution_count": 5,
   "id": "3694c0dd-5795-4e3c-b3f8-729fcfcd8c81",
   "metadata": {},
   "outputs": [],
   "source": [
    "df = df.drop(df[df['tipo'] == 'Terreno En Venta'].index)"
   ]
  },
  {
   "cell_type": "markdown",
   "id": "e87c0bc9-3567-42d6-b876-c025169d4441",
   "metadata": {},
   "source": [
    "## Separar columnas de terrenos, baños estacionamientos y piscina"
   ]
  },
  {
   "cell_type": "code",
   "execution_count": 6,
   "id": "ce78d772-91d6-4938-91bb-1c0db5ccd1c1",
   "metadata": {},
   "outputs": [],
   "source": [
    "df[['terreno', 'construccion']] = df['metros'].str.split('Terreno•', expand=True)"
   ]
  },
  {
   "cell_type": "code",
   "execution_count": 7,
   "id": "707fd2a4-3007-41b1-9c92-a2f85d02c7a6",
   "metadata": {},
   "outputs": [],
   "source": [
    "df.drop(columns=['metros'], inplace=True)"
   ]
  },
  {
   "cell_type": "code",
   "execution_count": 8,
   "id": "cb3cdb20-cc32-40a7-942d-ab6ee05e7c89",
   "metadata": {},
   "outputs": [],
   "source": [
    "df[['hab', 'baños', 'estac', 'pisc']] = df['estacionamiento'].str.extract(r'(\\d+) Hab\\. (\\d+) Baños (\\d+) Estac\\. (Piscina)?')"
   ]
  },
  {
   "cell_type": "code",
   "execution_count": 9,
   "id": "8532d90d-a0b5-4016-ad0a-a9d5eaaf0df2",
   "metadata": {},
   "outputs": [],
   "source": [
    "df.drop(columns=['estacionamiento'], inplace=True)"
   ]
  },
  {
   "cell_type": "code",
   "execution_count": 10,
   "id": "625ad6d3-c436-41ea-ab1a-4957789cadc3",
   "metadata": {},
   "outputs": [
    {
     "data": {
      "text/html": [
       "<div>\n",
       "<style scoped>\n",
       "    .dataframe tbody tr th:only-of-type {\n",
       "        vertical-align: middle;\n",
       "    }\n",
       "\n",
       "    .dataframe tbody tr th {\n",
       "        vertical-align: top;\n",
       "    }\n",
       "\n",
       "    .dataframe thead th {\n",
       "        text-align: right;\n",
       "    }\n",
       "</style>\n",
       "<table border=\"1\" class=\"dataframe\">\n",
       "  <thead>\n",
       "    <tr style=\"text-align: right;\">\n",
       "      <th></th>\n",
       "      <th>tipo</th>\n",
       "      <th>titulo</th>\n",
       "      <th>direccion</th>\n",
       "      <th>precio</th>\n",
       "      <th>terreno</th>\n",
       "      <th>construccion</th>\n",
       "      <th>hab</th>\n",
       "      <th>baños</th>\n",
       "      <th>estac</th>\n",
       "      <th>pisc</th>\n",
       "    </tr>\n",
       "  </thead>\n",
       "  <tbody>\n",
       "    <tr>\n",
       "      <th>0</th>\n",
       "      <td>Apartamento En Venta</td>\n",
       "      <td>En Venta Apartamento Lechería. C.R Entre Mares</td>\n",
       "      <td>Av. Américo Vespucio, Diego Bautista Urbaneja,...</td>\n",
       "      <td>$35.000</td>\n",
       "      <td>45 m²</td>\n",
       "      <td>45 m² Construcción</td>\n",
       "      <td>1</td>\n",
       "      <td>1</td>\n",
       "      <td>1</td>\n",
       "      <td>Piscina</td>\n",
       "    </tr>\n",
       "    <tr>\n",
       "      <th>1</th>\n",
       "      <td>Apartamento En Venta</td>\n",
       "      <td>Lujoso Apartamento Dúplex En Planta Baja Condo...</td>\n",
       "      <td>Avenida La Costa, Diego Bautista Urbaneja, Lec...</td>\n",
       "      <td>$245.000</td>\n",
       "      <td>194 m²</td>\n",
       "      <td>164 m² Construcción</td>\n",
       "      <td>NaN</td>\n",
       "      <td>NaN</td>\n",
       "      <td>NaN</td>\n",
       "      <td>NaN</td>\n",
       "    </tr>\n",
       "    <tr>\n",
       "      <th>2</th>\n",
       "      <td>Apartamento En Renta</td>\n",
       "      <td>Apatamento En Alquiler Conjunto Residencial Ag...</td>\n",
       "      <td>Arismendi, Diego Bautista Urbaneja, Lechería, ...</td>\n",
       "      <td>$300</td>\n",
       "      <td>65 m²</td>\n",
       "      <td>65 m² Construcción</td>\n",
       "      <td>1</td>\n",
       "      <td>1</td>\n",
       "      <td>1</td>\n",
       "      <td>Piscina</td>\n",
       "    </tr>\n",
       "    <tr>\n",
       "      <th>4</th>\n",
       "      <td>Apartamento En Renta</td>\n",
       "      <td>Alquiler Apartamento En El Conjunto Residencia...</td>\n",
       "      <td>Sector la Salina, Diego Bautista Urbaneja, Lec...</td>\n",
       "      <td>$700</td>\n",
       "      <td>120 m²</td>\n",
       "      <td>120 m² Construcción</td>\n",
       "      <td>3</td>\n",
       "      <td>2</td>\n",
       "      <td>2</td>\n",
       "      <td>Piscina</td>\n",
       "    </tr>\n",
       "    <tr>\n",
       "      <th>5</th>\n",
       "      <td>Apartamento En Renta</td>\n",
       "      <td>Se Alquila Hermoso Apartamento En El Conjunto ...</td>\n",
       "      <td>1, Diego Bautista Urbaneja, Lechería, Anzoategui</td>\n",
       "      <td>$350</td>\n",
       "      <td>46 m²</td>\n",
       "      <td>46 m² Construcción</td>\n",
       "      <td>1</td>\n",
       "      <td>1</td>\n",
       "      <td>1</td>\n",
       "      <td>NaN</td>\n",
       "    </tr>\n",
       "  </tbody>\n",
       "</table>\n",
       "</div>"
      ],
      "text/plain": [
       "                   tipo                                             titulo  \\\n",
       "0  Apartamento En Venta     En Venta Apartamento Lechería. C.R Entre Mares   \n",
       "1  Apartamento En Venta  Lujoso Apartamento Dúplex En Planta Baja Condo...   \n",
       "2  Apartamento En Renta  Apatamento En Alquiler Conjunto Residencial Ag...   \n",
       "4  Apartamento En Renta  Alquiler Apartamento En El Conjunto Residencia...   \n",
       "5  Apartamento En Renta  Se Alquila Hermoso Apartamento En El Conjunto ...   \n",
       "\n",
       "                                           direccion    precio  terreno  \\\n",
       "0  Av. Américo Vespucio, Diego Bautista Urbaneja,...   $35.000   45 m²    \n",
       "1  Avenida La Costa, Diego Bautista Urbaneja, Lec...  $245.000  194 m²    \n",
       "2  Arismendi, Diego Bautista Urbaneja, Lechería, ...      $300   65 m²    \n",
       "4  Sector la Salina, Diego Bautista Urbaneja, Lec...      $700  120 m²    \n",
       "5   1, Diego Bautista Urbaneja, Lechería, Anzoategui      $350   46 m²    \n",
       "\n",
       "          construccion  hab baños estac     pisc  \n",
       "0   45 m² Construcción    1     1     1  Piscina  \n",
       "1  164 m² Construcción  NaN   NaN   NaN      NaN  \n",
       "2   65 m² Construcción    1     1     1  Piscina  \n",
       "4  120 m² Construcción    3     2     2  Piscina  \n",
       "5   46 m² Construcción    1     1     1      NaN  "
      ]
     },
     "execution_count": 10,
     "metadata": {},
     "output_type": "execute_result"
    }
   ],
   "source": [
    "df.head()"
   ]
  },
  {
   "cell_type": "markdown",
   "id": "3a01c4bc-6a68-4518-a089-9774b1a6b6bb",
   "metadata": {},
   "source": [
    "## Cambiando tipo de valores a float"
   ]
  },
  {
   "cell_type": "markdown",
   "id": "d757d18d-8017-4414-a8be-9e7f14c09e77",
   "metadata": {},
   "source": [
    "### Precios"
   ]
  },
  {
   "cell_type": "code",
   "execution_count": 11,
   "id": "d869a8ba-fdd3-4a2e-9148-f3c805f8588f",
   "metadata": {},
   "outputs": [
    {
     "name": "stderr",
     "output_type": "stream",
     "text": [
      "<ipython-input-11-712d4a512a29>:1: FutureWarning: The default value of regex will change from True to False in a future version. In addition, single character regular expressions will*not* be treated as literal strings when regex=True.\n",
      "  df['precio'] = df['precio'].str.replace('$', '')\n"
     ]
    }
   ],
   "source": [
    "df['precio'] = df['precio'].str.replace('$', '')"
   ]
  },
  {
   "cell_type": "code",
   "execution_count": 12,
   "id": "6c62f433-75b1-4b2e-9d27-b49b10d6e65a",
   "metadata": {},
   "outputs": [
    {
     "name": "stderr",
     "output_type": "stream",
     "text": [
      "<ipython-input-12-8b55ea7c383c>:1: FutureWarning: The default value of regex will change from True to False in a future version. In addition, single character regular expressions will*not* be treated as literal strings when regex=True.\n",
      "  df['precio'] = df['precio'].str.replace('.', '')\n"
     ]
    }
   ],
   "source": [
    "df['precio'] = df['precio'].str.replace('.', '')"
   ]
  },
  {
   "cell_type": "code",
   "execution_count": 13,
   "id": "4b1d453d-fbdf-4111-b778-4f8133eb529c",
   "metadata": {},
   "outputs": [
    {
     "data": {
      "text/plain": [
       "array(['35000', '245000', '300', '700', '350', '400', '295000', '42000',\n",
       "       '250000', '145000', '55000', 'Ver Detalle', '38000', '25000',\n",
       "       '40000', '550', '450', '1000', '250', '83000', '800', '24000',\n",
       "       '79000', '170000', '80000', '70000', '43000', '350000', '125000',\n",
       "       '1300000', '500', '18500', '420000', '110000', '600', '1500', None,\n",
       "       '650', '210000', '255000', '85', '26000', '950', '120000', '2000',\n",
       "       '1400', '100000', '19000', '1300', '1200', '220000', '85000',\n",
       "       '65000', '150000', '89000', '60000', '95000', '117000', '45000',\n",
       "       '180'], dtype=object)"
      ]
     },
     "execution_count": 13,
     "metadata": {},
     "output_type": "execute_result"
    }
   ],
   "source": [
    "df['precio'].unique()"
   ]
  },
  {
   "cell_type": "code",
   "execution_count": 14,
   "id": "dddfe50f-4f7c-4166-8587-c87edd56f7a9",
   "metadata": {},
   "outputs": [],
   "source": [
    "df = df.drop(df[df['precio'] == 'Ver Detalle'].index)"
   ]
  },
  {
   "cell_type": "code",
   "execution_count": 15,
   "id": "503b99d0-caa3-4d11-8c79-5e9a3d72be8f",
   "metadata": {},
   "outputs": [],
   "source": [
    "df = df.drop(df[df['precio'] == None].index)"
   ]
  },
  {
   "cell_type": "code",
   "execution_count": 16,
   "id": "2d421da6-f614-4964-92f2-72e3521baede",
   "metadata": {},
   "outputs": [
    {
     "data": {
      "text/plain": [
       "(88, 10)"
      ]
     },
     "execution_count": 16,
     "metadata": {},
     "output_type": "execute_result"
    }
   ],
   "source": [
    "df .shape"
   ]
  },
  {
   "cell_type": "code",
   "execution_count": 17,
   "id": "3c8669d2-30d3-4176-bca5-0e525511d3d8",
   "metadata": {},
   "outputs": [],
   "source": [
    "df.precio=df['precio'].astype(float)"
   ]
  },
  {
   "cell_type": "markdown",
   "id": "20dad663-ebf6-44be-af37-77b92751a638",
   "metadata": {},
   "source": [
    "### Terreno"
   ]
  },
  {
   "cell_type": "code",
   "execution_count": 18,
   "id": "a8085eb6-04bb-4aa4-bd5b-582a2ced7fd2",
   "metadata": {},
   "outputs": [],
   "source": [
    "df['terreno'] = df['terreno'].str.replace(' m²', '')"
   ]
  },
  {
   "cell_type": "code",
   "execution_count": 19,
   "id": "a88315af-488c-460e-9e9b-e239f77280a5",
   "metadata": {},
   "outputs": [],
   "source": [
    "df['terreno'] = df['terreno'].str.replace(' ', '')"
   ]
  },
  {
   "cell_type": "code",
   "execution_count": 20,
   "id": "4d662cc3-0fa3-41d1-990c-b749a411d725",
   "metadata": {},
   "outputs": [
    {
     "data": {
      "text/plain": [
       "array(['45', '194', '65', '120', '46', '135', '509', '375', '96', '86',\n",
       "       '29', '83', '72', '85', '1.200', '40', '118', '95', '94', '109',\n",
       "       '206', '55', '66', '165', '150', '800', '81', '200', '0', '90',\n",
       "       '77', '273', '$49.000', '98', '1.964', '229', '97', '57', '215',\n",
       "       '82', '75', '112', '70', '28', '103', '132', '202', '63', '117',\n",
       "       '235', '238', '113', '18', '173', '190', '125', '106', '56', '100',\n",
       "       '10', '89'], dtype=object)"
      ]
     },
     "execution_count": 20,
     "metadata": {},
     "output_type": "execute_result"
    }
   ],
   "source": [
    "df['terreno'].unique()"
   ]
  },
  {
   "cell_type": "code",
   "execution_count": 21,
   "id": "3145c142-ea3d-4d3f-a01f-8d80f11d6c05",
   "metadata": {},
   "outputs": [],
   "source": [
    "df = df.drop(df[df['terreno'] == '$49.000'].index)"
   ]
  },
  {
   "cell_type": "code",
   "execution_count": 22,
   "id": "5f5f359e-2621-4985-90ec-432e90cf99dd",
   "metadata": {},
   "outputs": [],
   "source": [
    "df.terreno=df['terreno'].astype(float)"
   ]
  },
  {
   "cell_type": "markdown",
   "id": "de35481d-58d2-42e9-83c5-37bb28bb23b2",
   "metadata": {},
   "source": [
    "### Construccion"
   ]
  },
  {
   "cell_type": "code",
   "execution_count": 23,
   "id": "a0f2ec1d-0ba1-4aff-b061-a8d8183e2b81",
   "metadata": {},
   "outputs": [],
   "source": [
    "df['construccion'] = df['construccion'].str.replace(' m²', '')"
   ]
  },
  {
   "cell_type": "code",
   "execution_count": 24,
   "id": "daf1e330-2393-426a-b2f7-0776478c331f",
   "metadata": {},
   "outputs": [
    {
     "data": {
      "text/plain": [
       "array(['45 Construcción', '164 Construcción', '65 Construcción',\n",
       "       '120 Construcción', '46 Construcción', '135 Construcción',\n",
       "       '400 Construcción', '375 Construcción', '96 Construcción',\n",
       "       '86 Construcción', '29 Construcción', '83 Construcción',\n",
       "       '72 Construcción', '85 Construcción', '700 Construcción',\n",
       "       '40 Construcción', '118 Construcción', '95 Construcción',\n",
       "       '94 Construcción', '109 Construcción', '206 Construcción',\n",
       "       '55 Construcción', '66 Construcción', '165 Construcción',\n",
       "       '150 Construcción', '800 Construcción', '81 Construcción',\n",
       "       '391 Construcción', '235 Construcción', '90 Construcción',\n",
       "       '77 Construcción', '273 Construcción', '98 Construcción',\n",
       "       '1.964 Construcción', '229 Construcción', '92 Construcción',\n",
       "       '97 Construcción', '57 Construcción', '215 Construcción',\n",
       "       '82 Construcción', '75 Construcción', '112 Construcción',\n",
       "       '70 Construcción', '28 Construcción', '103 Construcción',\n",
       "       '132 Construcción', '202 Construcción', '63 Construcción',\n",
       "       '117 Construcción', '238 Construcción', '113 Construcción',\n",
       "       '18 Construcción', '173 Construcción', '190 Construcción',\n",
       "       '125 Construcción', '180 Construcción', '168 Construcción',\n",
       "       '106 Construcción', '58 Construcción', '100 Construcción',\n",
       "       '10 Construcción', '89 Construcción'], dtype=object)"
      ]
     },
     "execution_count": 24,
     "metadata": {},
     "output_type": "execute_result"
    }
   ],
   "source": [
    "df['construccion'].unique()"
   ]
  },
  {
   "cell_type": "code",
   "execution_count": 25,
   "id": "375dd42d-1569-48e7-9798-9b63a7c947d6",
   "metadata": {},
   "outputs": [],
   "source": [
    "df['construccion'] = df['construccion'].str.replace(' Construcción', '')"
   ]
  },
  {
   "cell_type": "code",
   "execution_count": 26,
   "id": "4bb24968-7e6e-43d0-9b69-13f09c29ec4d",
   "metadata": {},
   "outputs": [],
   "source": [
    "df.construccion = df['construccion'].astype(float)"
   ]
  },
  {
   "cell_type": "markdown",
   "id": "73f8aaae-3da4-428f-a2a9-7d21a35fad57",
   "metadata": {},
   "source": [
    "### Habitaciones"
   ]
  },
  {
   "cell_type": "code",
   "execution_count": 27,
   "id": "ce334c47-8b33-46ea-9928-8c49025877ce",
   "metadata": {},
   "outputs": [
    {
     "data": {
      "text/plain": [
       "array(['1', nan, '3', '6', '4', '2', '21', '5'], dtype=object)"
      ]
     },
     "execution_count": 27,
     "metadata": {},
     "output_type": "execute_result"
    }
   ],
   "source": [
    "df['hab'].unique()"
   ]
  },
  {
   "cell_type": "code",
   "execution_count": 28,
   "id": "aa85c697-4e45-4fb4-85aa-c930ef8e28a9",
   "metadata": {},
   "outputs": [],
   "source": [
    "df = df.drop(df[df['hab'] == None].index)"
   ]
  },
  {
   "cell_type": "code",
   "execution_count": 29,
   "id": "ffb59bd0-74d4-4992-8f57-e1a5daed46e6",
   "metadata": {},
   "outputs": [],
   "source": [
    "df.hab = df['hab'].astype(float)"
   ]
  },
  {
   "cell_type": "markdown",
   "id": "c617a42f-b3dd-4c3a-8d28-7c60b09f5c3e",
   "metadata": {},
   "source": [
    "### Baños"
   ]
  },
  {
   "cell_type": "code",
   "execution_count": 30,
   "id": "4be7b7af-81e5-4c7c-847d-29684a19b815",
   "metadata": {},
   "outputs": [],
   "source": [
    "df.baños = df['baños'].astype(float)"
   ]
  },
  {
   "cell_type": "markdown",
   "id": "08caf65e-ac18-4219-889a-e2757b84c769",
   "metadata": {},
   "source": [
    "### Estacionamiento"
   ]
  },
  {
   "cell_type": "code",
   "execution_count": 31,
   "id": "e4f98d11-381c-43dd-9e50-588e5e9d4b6a",
   "metadata": {},
   "outputs": [],
   "source": [
    "df.estac=df['estac'].astype(float)"
   ]
  },
  {
   "cell_type": "markdown",
   "id": "061dbd4c-ed6c-4539-a9b8-5ec869b856a1",
   "metadata": {},
   "source": [
    "### Piscina"
   ]
  },
  {
   "cell_type": "code",
   "execution_count": 32,
   "id": "2793e540-4749-47ca-9943-adbab0741179",
   "metadata": {},
   "outputs": [],
   "source": [
    "df['pisc'] = df['pisc'].fillna(False)"
   ]
  },
  {
   "cell_type": "code",
   "execution_count": 33,
   "id": "41a634ed-2b9d-4f60-962d-f5eff14f9a3c",
   "metadata": {},
   "outputs": [
    {
     "data": {
      "text/plain": [
       "0     Piscina\n",
       "1       False\n",
       "2     Piscina\n",
       "4     Piscina\n",
       "5       False\n",
       "       ...   \n",
       "94    Piscina\n",
       "95      False\n",
       "97      False\n",
       "98    Piscina\n",
       "99      False\n",
       "Name: pisc, Length: 87, dtype: object"
      ]
     },
     "execution_count": 33,
     "metadata": {},
     "output_type": "execute_result"
    }
   ],
   "source": [
    "df['pisc']"
   ]
  },
  {
   "cell_type": "code",
   "execution_count": 34,
   "id": "9579c5a7-e4a4-4887-a970-0e8e8f2f4b2f",
   "metadata": {},
   "outputs": [],
   "source": [
    "df['pisc'] = df['pisc'] == 'Piscina'"
   ]
  },
  {
   "cell_type": "code",
   "execution_count": 35,
   "id": "9f8c2e57-09d1-4bc9-bc1f-bb5d91a9f946",
   "metadata": {},
   "outputs": [
    {
     "data": {
      "text/html": [
       "<div>\n",
       "<style scoped>\n",
       "    .dataframe tbody tr th:only-of-type {\n",
       "        vertical-align: middle;\n",
       "    }\n",
       "\n",
       "    .dataframe tbody tr th {\n",
       "        vertical-align: top;\n",
       "    }\n",
       "\n",
       "    .dataframe thead th {\n",
       "        text-align: right;\n",
       "    }\n",
       "</style>\n",
       "<table border=\"1\" class=\"dataframe\">\n",
       "  <thead>\n",
       "    <tr style=\"text-align: right;\">\n",
       "      <th></th>\n",
       "      <th>tipo</th>\n",
       "      <th>titulo</th>\n",
       "      <th>direccion</th>\n",
       "      <th>precio</th>\n",
       "      <th>terreno</th>\n",
       "      <th>construccion</th>\n",
       "      <th>hab</th>\n",
       "      <th>baños</th>\n",
       "      <th>estac</th>\n",
       "      <th>pisc</th>\n",
       "    </tr>\n",
       "  </thead>\n",
       "  <tbody>\n",
       "    <tr>\n",
       "      <th>0</th>\n",
       "      <td>Apartamento En Venta</td>\n",
       "      <td>En Venta Apartamento Lechería. C.R Entre Mares</td>\n",
       "      <td>Av. Américo Vespucio, Diego Bautista Urbaneja,...</td>\n",
       "      <td>35000.0</td>\n",
       "      <td>45.0</td>\n",
       "      <td>45.0</td>\n",
       "      <td>1.0</td>\n",
       "      <td>1.0</td>\n",
       "      <td>1.0</td>\n",
       "      <td>True</td>\n",
       "    </tr>\n",
       "    <tr>\n",
       "      <th>1</th>\n",
       "      <td>Apartamento En Venta</td>\n",
       "      <td>Lujoso Apartamento Dúplex En Planta Baja Condo...</td>\n",
       "      <td>Avenida La Costa, Diego Bautista Urbaneja, Lec...</td>\n",
       "      <td>245000.0</td>\n",
       "      <td>194.0</td>\n",
       "      <td>164.0</td>\n",
       "      <td>NaN</td>\n",
       "      <td>NaN</td>\n",
       "      <td>NaN</td>\n",
       "      <td>False</td>\n",
       "    </tr>\n",
       "    <tr>\n",
       "      <th>2</th>\n",
       "      <td>Apartamento En Renta</td>\n",
       "      <td>Apatamento En Alquiler Conjunto Residencial Ag...</td>\n",
       "      <td>Arismendi, Diego Bautista Urbaneja, Lechería, ...</td>\n",
       "      <td>300.0</td>\n",
       "      <td>65.0</td>\n",
       "      <td>65.0</td>\n",
       "      <td>1.0</td>\n",
       "      <td>1.0</td>\n",
       "      <td>1.0</td>\n",
       "      <td>True</td>\n",
       "    </tr>\n",
       "    <tr>\n",
       "      <th>4</th>\n",
       "      <td>Apartamento En Renta</td>\n",
       "      <td>Alquiler Apartamento En El Conjunto Residencia...</td>\n",
       "      <td>Sector la Salina, Diego Bautista Urbaneja, Lec...</td>\n",
       "      <td>700.0</td>\n",
       "      <td>120.0</td>\n",
       "      <td>120.0</td>\n",
       "      <td>3.0</td>\n",
       "      <td>2.0</td>\n",
       "      <td>2.0</td>\n",
       "      <td>True</td>\n",
       "    </tr>\n",
       "    <tr>\n",
       "      <th>5</th>\n",
       "      <td>Apartamento En Renta</td>\n",
       "      <td>Se Alquila Hermoso Apartamento En El Conjunto ...</td>\n",
       "      <td>1, Diego Bautista Urbaneja, Lechería, Anzoategui</td>\n",
       "      <td>350.0</td>\n",
       "      <td>46.0</td>\n",
       "      <td>46.0</td>\n",
       "      <td>1.0</td>\n",
       "      <td>1.0</td>\n",
       "      <td>1.0</td>\n",
       "      <td>False</td>\n",
       "    </tr>\n",
       "  </tbody>\n",
       "</table>\n",
       "</div>"
      ],
      "text/plain": [
       "                   tipo                                             titulo  \\\n",
       "0  Apartamento En Venta     En Venta Apartamento Lechería. C.R Entre Mares   \n",
       "1  Apartamento En Venta  Lujoso Apartamento Dúplex En Planta Baja Condo...   \n",
       "2  Apartamento En Renta  Apatamento En Alquiler Conjunto Residencial Ag...   \n",
       "4  Apartamento En Renta  Alquiler Apartamento En El Conjunto Residencia...   \n",
       "5  Apartamento En Renta  Se Alquila Hermoso Apartamento En El Conjunto ...   \n",
       "\n",
       "                                           direccion    precio  terreno  \\\n",
       "0  Av. Américo Vespucio, Diego Bautista Urbaneja,...   35000.0     45.0   \n",
       "1  Avenida La Costa, Diego Bautista Urbaneja, Lec...  245000.0    194.0   \n",
       "2  Arismendi, Diego Bautista Urbaneja, Lechería, ...     300.0     65.0   \n",
       "4  Sector la Salina, Diego Bautista Urbaneja, Lec...     700.0    120.0   \n",
       "5   1, Diego Bautista Urbaneja, Lechería, Anzoategui     350.0     46.0   \n",
       "\n",
       "   construccion  hab  baños  estac   pisc  \n",
       "0          45.0  1.0    1.0    1.0   True  \n",
       "1         164.0  NaN    NaN    NaN  False  \n",
       "2          65.0  1.0    1.0    1.0   True  \n",
       "4         120.0  3.0    2.0    2.0   True  \n",
       "5          46.0  1.0    1.0    1.0  False  "
      ]
     },
     "execution_count": 35,
     "metadata": {},
     "output_type": "execute_result"
    }
   ],
   "source": [
    "df.head()"
   ]
  },
  {
   "cell_type": "markdown",
   "id": "2b684d4b-44e1-4149-9f38-57123fa71c6c",
   "metadata": {},
   "source": [
    "# EDA"
   ]
  },
  {
   "cell_type": "code",
   "execution_count": 36,
   "id": "b0930638-4010-4aa4-842a-a9b9b90bf303",
   "metadata": {},
   "outputs": [
    {
     "data": {
      "text/plain": [
       "tipo             object\n",
       "titulo           object\n",
       "direccion        object\n",
       "precio          float64\n",
       "terreno         float64\n",
       "construccion    float64\n",
       "hab             float64\n",
       "baños           float64\n",
       "estac           float64\n",
       "pisc               bool\n",
       "dtype: object"
      ]
     },
     "execution_count": 36,
     "metadata": {},
     "output_type": "execute_result"
    }
   ],
   "source": [
    "df.dtypes"
   ]
  },
  {
   "cell_type": "code",
   "execution_count": 37,
   "id": "b008aa15-3c47-4ec5-acb5-ef4c8ec37b01",
   "metadata": {},
   "outputs": [
    {
     "data": {
      "text/html": [
       "<div>\n",
       "<style scoped>\n",
       "    .dataframe tbody tr th:only-of-type {\n",
       "        vertical-align: middle;\n",
       "    }\n",
       "\n",
       "    .dataframe tbody tr th {\n",
       "        vertical-align: top;\n",
       "    }\n",
       "\n",
       "    .dataframe thead th {\n",
       "        text-align: right;\n",
       "    }\n",
       "</style>\n",
       "<table border=\"1\" class=\"dataframe\">\n",
       "  <thead>\n",
       "    <tr style=\"text-align: right;\">\n",
       "      <th></th>\n",
       "      <th>tipo</th>\n",
       "      <th>titulo</th>\n",
       "      <th>direccion</th>\n",
       "      <th>precio</th>\n",
       "      <th>terreno</th>\n",
       "      <th>construccion</th>\n",
       "      <th>hab</th>\n",
       "      <th>baños</th>\n",
       "      <th>estac</th>\n",
       "      <th>pisc</th>\n",
       "    </tr>\n",
       "  </thead>\n",
       "  <tbody>\n",
       "    <tr>\n",
       "      <th>0</th>\n",
       "      <td>False</td>\n",
       "      <td>False</td>\n",
       "      <td>False</td>\n",
       "      <td>False</td>\n",
       "      <td>False</td>\n",
       "      <td>False</td>\n",
       "      <td>False</td>\n",
       "      <td>False</td>\n",
       "      <td>False</td>\n",
       "      <td>False</td>\n",
       "    </tr>\n",
       "    <tr>\n",
       "      <th>1</th>\n",
       "      <td>False</td>\n",
       "      <td>False</td>\n",
       "      <td>False</td>\n",
       "      <td>False</td>\n",
       "      <td>False</td>\n",
       "      <td>False</td>\n",
       "      <td>True</td>\n",
       "      <td>True</td>\n",
       "      <td>True</td>\n",
       "      <td>False</td>\n",
       "    </tr>\n",
       "    <tr>\n",
       "      <th>2</th>\n",
       "      <td>False</td>\n",
       "      <td>False</td>\n",
       "      <td>False</td>\n",
       "      <td>False</td>\n",
       "      <td>False</td>\n",
       "      <td>False</td>\n",
       "      <td>False</td>\n",
       "      <td>False</td>\n",
       "      <td>False</td>\n",
       "      <td>False</td>\n",
       "    </tr>\n",
       "    <tr>\n",
       "      <th>4</th>\n",
       "      <td>False</td>\n",
       "      <td>False</td>\n",
       "      <td>False</td>\n",
       "      <td>False</td>\n",
       "      <td>False</td>\n",
       "      <td>False</td>\n",
       "      <td>False</td>\n",
       "      <td>False</td>\n",
       "      <td>False</td>\n",
       "      <td>False</td>\n",
       "    </tr>\n",
       "    <tr>\n",
       "      <th>5</th>\n",
       "      <td>False</td>\n",
       "      <td>False</td>\n",
       "      <td>False</td>\n",
       "      <td>False</td>\n",
       "      <td>False</td>\n",
       "      <td>False</td>\n",
       "      <td>False</td>\n",
       "      <td>False</td>\n",
       "      <td>False</td>\n",
       "      <td>False</td>\n",
       "    </tr>\n",
       "    <tr>\n",
       "      <th>...</th>\n",
       "      <td>...</td>\n",
       "      <td>...</td>\n",
       "      <td>...</td>\n",
       "      <td>...</td>\n",
       "      <td>...</td>\n",
       "      <td>...</td>\n",
       "      <td>...</td>\n",
       "      <td>...</td>\n",
       "      <td>...</td>\n",
       "      <td>...</td>\n",
       "    </tr>\n",
       "    <tr>\n",
       "      <th>94</th>\n",
       "      <td>False</td>\n",
       "      <td>False</td>\n",
       "      <td>False</td>\n",
       "      <td>False</td>\n",
       "      <td>False</td>\n",
       "      <td>False</td>\n",
       "      <td>False</td>\n",
       "      <td>False</td>\n",
       "      <td>False</td>\n",
       "      <td>False</td>\n",
       "    </tr>\n",
       "    <tr>\n",
       "      <th>95</th>\n",
       "      <td>False</td>\n",
       "      <td>False</td>\n",
       "      <td>False</td>\n",
       "      <td>False</td>\n",
       "      <td>False</td>\n",
       "      <td>False</td>\n",
       "      <td>True</td>\n",
       "      <td>True</td>\n",
       "      <td>True</td>\n",
       "      <td>False</td>\n",
       "    </tr>\n",
       "    <tr>\n",
       "      <th>97</th>\n",
       "      <td>False</td>\n",
       "      <td>False</td>\n",
       "      <td>False</td>\n",
       "      <td>False</td>\n",
       "      <td>False</td>\n",
       "      <td>False</td>\n",
       "      <td>True</td>\n",
       "      <td>True</td>\n",
       "      <td>True</td>\n",
       "      <td>False</td>\n",
       "    </tr>\n",
       "    <tr>\n",
       "      <th>98</th>\n",
       "      <td>False</td>\n",
       "      <td>False</td>\n",
       "      <td>False</td>\n",
       "      <td>False</td>\n",
       "      <td>False</td>\n",
       "      <td>False</td>\n",
       "      <td>False</td>\n",
       "      <td>False</td>\n",
       "      <td>False</td>\n",
       "      <td>False</td>\n",
       "    </tr>\n",
       "    <tr>\n",
       "      <th>99</th>\n",
       "      <td>False</td>\n",
       "      <td>False</td>\n",
       "      <td>False</td>\n",
       "      <td>False</td>\n",
       "      <td>False</td>\n",
       "      <td>False</td>\n",
       "      <td>True</td>\n",
       "      <td>True</td>\n",
       "      <td>True</td>\n",
       "      <td>False</td>\n",
       "    </tr>\n",
       "  </tbody>\n",
       "</table>\n",
       "<p>87 rows × 10 columns</p>\n",
       "</div>"
      ],
      "text/plain": [
       "     tipo  titulo  direccion  precio  terreno  construccion    hab  baños  \\\n",
       "0   False   False      False   False    False         False  False  False   \n",
       "1   False   False      False   False    False         False   True   True   \n",
       "2   False   False      False   False    False         False  False  False   \n",
       "4   False   False      False   False    False         False  False  False   \n",
       "5   False   False      False   False    False         False  False  False   \n",
       "..    ...     ...        ...     ...      ...           ...    ...    ...   \n",
       "94  False   False      False   False    False         False  False  False   \n",
       "95  False   False      False   False    False         False   True   True   \n",
       "97  False   False      False   False    False         False   True   True   \n",
       "98  False   False      False   False    False         False  False  False   \n",
       "99  False   False      False   False    False         False   True   True   \n",
       "\n",
       "    estac   pisc  \n",
       "0   False  False  \n",
       "1    True  False  \n",
       "2   False  False  \n",
       "4   False  False  \n",
       "5   False  False  \n",
       "..    ...    ...  \n",
       "94  False  False  \n",
       "95   True  False  \n",
       "97   True  False  \n",
       "98  False  False  \n",
       "99   True  False  \n",
       "\n",
       "[87 rows x 10 columns]"
      ]
     },
     "execution_count": 37,
     "metadata": {},
     "output_type": "execute_result"
    }
   ],
   "source": [
    "df.isnull()"
   ]
  },
  {
   "cell_type": "code",
   "execution_count": 38,
   "id": "657e3b3a-efbc-401f-92e2-e4db99e3823b",
   "metadata": {},
   "outputs": [
    {
     "data": {
      "text/plain": [
       "tipo             0\n",
       "titulo           0\n",
       "direccion        0\n",
       "precio           0\n",
       "terreno          0\n",
       "construccion     0\n",
       "hab             44\n",
       "baños           44\n",
       "estac           44\n",
       "pisc             0\n",
       "dtype: int64"
      ]
     },
     "execution_count": 38,
     "metadata": {},
     "output_type": "execute_result"
    }
   ],
   "source": [
    "df.isnull().sum(axis=0)"
   ]
  },
  {
   "cell_type": "code",
   "execution_count": 39,
   "id": "4dd30506-bc6b-4bcb-a6f3-18fe958b5aef",
   "metadata": {},
   "outputs": [
    {
     "data": {
      "text/html": [
       "<div>\n",
       "<style scoped>\n",
       "    .dataframe tbody tr th:only-of-type {\n",
       "        vertical-align: middle;\n",
       "    }\n",
       "\n",
       "    .dataframe tbody tr th {\n",
       "        vertical-align: top;\n",
       "    }\n",
       "\n",
       "    .dataframe thead th {\n",
       "        text-align: right;\n",
       "    }\n",
       "</style>\n",
       "<table border=\"1\" class=\"dataframe\">\n",
       "  <thead>\n",
       "    <tr style=\"text-align: right;\">\n",
       "      <th></th>\n",
       "      <th>precio</th>\n",
       "      <th>terreno</th>\n",
       "      <th>construccion</th>\n",
       "      <th>hab</th>\n",
       "      <th>baños</th>\n",
       "      <th>estac</th>\n",
       "    </tr>\n",
       "  </thead>\n",
       "  <tbody>\n",
       "    <tr>\n",
       "      <th>count</th>\n",
       "      <td>8.700000e+01</td>\n",
       "      <td>87.000000</td>\n",
       "      <td>87.000000</td>\n",
       "      <td>43.000000</td>\n",
       "      <td>43.000000</td>\n",
       "      <td>43.000000</td>\n",
       "    </tr>\n",
       "    <tr>\n",
       "      <th>mean</th>\n",
       "      <td>7.967374e+04</td>\n",
       "      <td>120.680046</td>\n",
       "      <td>137.091540</td>\n",
       "      <td>3.302326</td>\n",
       "      <td>2.558140</td>\n",
       "      <td>2.069767</td>\n",
       "    </tr>\n",
       "    <tr>\n",
       "      <th>std</th>\n",
       "      <td>1.617677e+05</td>\n",
       "      <td>110.235778</td>\n",
       "      <td>122.693558</td>\n",
       "      <td>3.035778</td>\n",
       "      <td>1.350526</td>\n",
       "      <td>1.502305</td>\n",
       "    </tr>\n",
       "    <tr>\n",
       "      <th>min</th>\n",
       "      <td>8.500000e+01</td>\n",
       "      <td>0.000000</td>\n",
       "      <td>1.964000</td>\n",
       "      <td>1.000000</td>\n",
       "      <td>1.000000</td>\n",
       "      <td>0.000000</td>\n",
       "    </tr>\n",
       "    <tr>\n",
       "      <th>25%</th>\n",
       "      <td>7.000000e+02</td>\n",
       "      <td>71.000000</td>\n",
       "      <td>75.000000</td>\n",
       "      <td>2.000000</td>\n",
       "      <td>2.000000</td>\n",
       "      <td>1.000000</td>\n",
       "    </tr>\n",
       "    <tr>\n",
       "      <th>50%</th>\n",
       "      <td>2.600000e+04</td>\n",
       "      <td>95.000000</td>\n",
       "      <td>98.000000</td>\n",
       "      <td>3.000000</td>\n",
       "      <td>2.000000</td>\n",
       "      <td>2.000000</td>\n",
       "    </tr>\n",
       "    <tr>\n",
       "      <th>75%</th>\n",
       "      <td>9.500000e+04</td>\n",
       "      <td>133.500000</td>\n",
       "      <td>164.500000</td>\n",
       "      <td>3.000000</td>\n",
       "      <td>3.000000</td>\n",
       "      <td>2.000000</td>\n",
       "    </tr>\n",
       "    <tr>\n",
       "      <th>max</th>\n",
       "      <td>1.300000e+06</td>\n",
       "      <td>800.000000</td>\n",
       "      <td>800.000000</td>\n",
       "      <td>21.000000</td>\n",
       "      <td>8.000000</td>\n",
       "      <td>9.000000</td>\n",
       "    </tr>\n",
       "  </tbody>\n",
       "</table>\n",
       "</div>"
      ],
      "text/plain": [
       "             precio     terreno  construccion        hab      baños      estac\n",
       "count  8.700000e+01   87.000000     87.000000  43.000000  43.000000  43.000000\n",
       "mean   7.967374e+04  120.680046    137.091540   3.302326   2.558140   2.069767\n",
       "std    1.617677e+05  110.235778    122.693558   3.035778   1.350526   1.502305\n",
       "min    8.500000e+01    0.000000      1.964000   1.000000   1.000000   0.000000\n",
       "25%    7.000000e+02   71.000000     75.000000   2.000000   2.000000   1.000000\n",
       "50%    2.600000e+04   95.000000     98.000000   3.000000   2.000000   2.000000\n",
       "75%    9.500000e+04  133.500000    164.500000   3.000000   3.000000   2.000000\n",
       "max    1.300000e+06  800.000000    800.000000  21.000000   8.000000   9.000000"
      ]
     },
     "execution_count": 39,
     "metadata": {},
     "output_type": "execute_result"
    }
   ],
   "source": [
    "df.describe()"
   ]
  },
  {
   "cell_type": "code",
   "execution_count": 40,
   "id": "2c4b6528-21a8-4e37-ba97-a5a77d1b7e99",
   "metadata": {},
   "outputs": [
    {
     "data": {
      "text/plain": [
       "0     False\n",
       "1      True\n",
       "2     False\n",
       "4     False\n",
       "5     False\n",
       "      ...  \n",
       "94    False\n",
       "95     True\n",
       "97     True\n",
       "98    False\n",
       "99     True\n",
       "Name: hab, Length: 87, dtype: bool"
      ]
     },
     "execution_count": 40,
     "metadata": {},
     "output_type": "execute_result"
    }
   ],
   "source": [
    "df['hab'].isnull()"
   ]
  },
  {
   "cell_type": "code",
   "execution_count": 41,
   "id": "29838b16-1793-471c-b383-c11f6a4b1ff3",
   "metadata": {},
   "outputs": [
    {
     "data": {
      "text/plain": [
       "tipo                                         Apartamento En Renta\n",
       "titulo                            CONJUNTO RESIDENCIAL MARINA MAR\n",
       "direccion       SECTOR LA PENINSULA, Diego Bautista Urbaneja, ...\n",
       "precio                                                      180.0\n",
       "terreno                                                     229.0\n",
       "construccion                                                229.0\n",
       "hab                                                           NaN\n",
       "baños                                                         NaN\n",
       "estac                                                         NaN\n",
       "pisc                                                        False\n",
       "Name: 97, dtype: object"
      ]
     },
     "execution_count": 41,
     "metadata": {},
     "output_type": "execute_result"
    }
   ],
   "source": [
    "df.loc[97]"
   ]
  },
  {
   "cell_type": "markdown",
   "id": "d65d9969-ce38-4dc4-8367-a881091129f0",
   "metadata": {},
   "source": [
    "### Valores Nulos\n",
    "Al ser una gran cantidad de valores nulos para hab, baños y estacionamientos, se haran dos modelos uno con estos valores usando solo el terreno y la construccion para predecir el valor de las cosas y el otro modelo, se eliminaran estos valores para predecir con todas las variables"
   ]
  },
  {
   "cell_type": "code",
   "execution_count": null,
   "id": "9edf2fdf-4934-4aee-8e68-b4a54dd4d2b9",
   "metadata": {},
   "outputs": [],
   "source": []
  },
  {
   "cell_type": "code",
   "execution_count": null,
   "id": "c39f537f-f598-482b-b1e6-a7aed6133ddd",
   "metadata": {},
   "outputs": [],
   "source": []
  },
  {
   "cell_type": "code",
   "execution_count": null,
   "id": "97b3f84b-2e08-43dc-9498-b0dbda54dc38",
   "metadata": {},
   "outputs": [],
   "source": []
  }
 ],
 "metadata": {
  "kernelspec": {
   "display_name": "Python 3",
   "language": "python",
   "name": "python3"
  },
  "language_info": {
   "codemirror_mode": {
    "name": "ipython",
    "version": 3
   },
   "file_extension": ".py",
   "mimetype": "text/x-python",
   "name": "python",
   "nbconvert_exporter": "python",
   "pygments_lexer": "ipython3",
   "version": "3.8.8"
  }
 },
 "nbformat": 4,
 "nbformat_minor": 5
}
